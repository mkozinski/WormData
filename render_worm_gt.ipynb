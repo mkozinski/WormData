{
 "cells": [
  {
   "cell_type": "code",
   "execution_count": null,
   "metadata": {},
   "outputs": [],
   "source": [
    "import cv2\n",
    "import IPython.display \n",
    "import numpy as np\n",
    "import os\n",
    "from skimage.external.tifffile import imread\n",
    "import render_gt\n",
    "import torch\n",
    "\n",
    "def imshow(img):\n",
    "    _,ret = cv2.imencode('.jpg', img) \n",
    "    i = IPython.display.Image(data=ret)\n",
    "    IPython.display.display(i)\n",
    "    \n",
    "def showCube(vol):\n",
    "    v1=np.max(vol,axis=0)\n",
    "    v2=np.max(vol,axis=1)\n",
    "    v3=np.max(vol,axis=2)\n",
    "    imshow(v1*255)\n",
    "    imshow(v2*255)\n",
    "    imshow(v3*255)"
   ]
  },
  {
   "cell_type": "code",
   "execution_count": null,
   "metadata": {
    "scrolled": false
   },
   "outputs": [],
   "source": [
    "# render AIY\n",
    "\n",
    "imgDir=\"AIY_neuron/AIY_tif/\"\n",
    "swcDir=\"AIY_neuron/AIY_swc/\"\n",
    "lblDir=\"AIY_neuron/AIY_gt/\"\n",
    "os.rename(\"AIY_neuron/AIY_swc/Worm_ADS3(10)_red_t100_AIY_part.swc\",\n",
    "          \"AIY_neuron/AIY_swc/Worm_ADS3(10)_red_t100_part_AIY.swc\")\n",
    "os.mkdir(lblDir)\n",
    "\n",
    "m=[1,1,1]\n",
    "o=[0,0,0]\n",
    "scale_factor=[1,1,1]\n",
    "downsampling=torch.tensor(scale_factor,dtype=torch.double)\n",
    "offset=torch.tensor(o,dtype=torch.double)\n",
    "scale=torch.tensor(m,dtype=torch.double)\n",
    "volDims=torch.tensor([4,3,2],dtype=torch.long)\n",
    "\n",
    "for fname in os.listdir(imgDir):\n",
    "    print(fname)\n",
    "    bname,ext=os.path.splitext(fname)\n",
    "    #print(bname,ext)\n",
    "    if ext==\".tif\":\n",
    "        swcname=os.path.join(swcDir,bname+\"_AIY.swc\")\n",
    "        if os.path.isfile(swcname):\n",
    "            img=imread(os.path.join(imgDir,fname)).astype(np.float)\n",
    "            print(img.max())\n",
    "            img=img/img.max()\n",
    "            vol=np.zeros(img.shape,dtype=np.uint8)\n",
    "            render_gt.renderSWC2volume(swcname, volDims, vol, scale, offset, downsampling)\n",
    "            showCube((img+vol)/2)\n",
    "            np.save(os.path.join(lblDir,bname),vol)\n",
    "        else:\n",
    "            print(\"file {} does not exist\".format(swcname))\n",
    "    else:\n",
    "        print(\"encoured unexpected extension: {}\".format(ext))\n",
    "\n"
   ]
  },
  {
   "cell_type": "code",
   "execution_count": null,
   "metadata": {
    "scrolled": false
   },
   "outputs": [],
   "source": [
    "# view rendered AIY\n",
    "\n",
    "imgDir=\"AIY_neuron/AIY_tif/\"\n",
    "lblDir=\"AIY_neuron/AIY_gt/\"\n",
    "for fname in os.listdir(imgDir):\n",
    "    print(os.path.join(imgDir,fname))\n",
    "    bname,ext=os.path.splitext(fname)\n",
    "    if ext==\".tif\":\n",
    "        img=imread(os.path.join(imgDir,fname)).astype(np.float)\n",
    "        lfile=os.path.join(lblDir,bname+\".npy\")\n",
    "        if os.path.isfile(lfile):\n",
    "            lbl=np.load(lfile).astype(np.float)\n",
    "            print(img.max())\n",
    "            img=img/img.max()\n",
    "            showCube(img)\n",
    "            showCube(lbl)\n",
    "        else:\n",
    "            print(\"file {} does not exist\".format(lfile))"
   ]
  },
  {
   "cell_type": "code",
   "execution_count": null,
   "metadata": {
    "scrolled": false
   },
   "outputs": [],
   "source": [
    "# render AIA and AIB\n",
    "\n",
    "imgDir=\"AIA&AIB_neurons/AIA&AIB_tif\"\n",
    "swcDirs=[\"AIA&AIB_neurons/AIA_swc/\",\"AIA&AIB_neurons/AIB_swc/\"]\n",
    "suffixes=[\"AIA\",\"AIB\"]\n",
    "lblDir=\"AIA&AIB_neurons/gt/\"\n",
    "os.mkdir(lblDir)\n",
    "\n",
    "m=[1,1,1]\n",
    "o=[0,0,0]\n",
    "scale_factor=[1,1,1]\n",
    "downsampling=torch.tensor(scale_factor,dtype=torch.double)\n",
    "offset=torch.tensor(o,dtype=torch.double)\n",
    "scale=torch.tensor(m,dtype=torch.double)\n",
    "volDims=torch.tensor([4,3,2],dtype=torch.long)\n",
    "\n",
    "for fname in os.listdir(imgDir):\n",
    "    print(fname)\n",
    "    bname,ext=os.path.splitext(fname)\n",
    "    #print(bname,ext)\n",
    "    if ext==\".tif\":\n",
    "        img=imread(os.path.join(imgDir,fname)).astype(np.float)\n",
    "        print(img.max())\n",
    "        #img=img/(255.0*255.0)\n",
    "        img=img/img.max()\n",
    "        vol=np.zeros(img.shape,dtype=np.uint8)\n",
    "        for swcDir,suffix in zip(swcDirs,suffixes):\n",
    "            swcname=os.path.join(swcDir,bname+\"_\"+suffix+\".swc\")\n",
    "            print(swcname)\n",
    "            if os.path.isfile(swcname):\n",
    "                render_gt.renderSWC2volume(swcname, volDims, vol, scale, offset, downsampling)\n",
    "            else:\n",
    "                print(\"file {} does not exist\".format(swcname))\n",
    "        showCube((img+vol)/2)\n",
    "        np.save(os.path.join(lblDir,bname),vol)\n",
    "    else:\n",
    "        print(\"encountered unexpected extension: {}\".format(ext))\n",
    "\n"
   ]
  },
  {
   "cell_type": "code",
   "execution_count": null,
   "metadata": {
    "scrolled": false
   },
   "outputs": [],
   "source": [
    "# view rendered AIA and AIB\n",
    "imgDir=\"AIA&AIB_neurons/AIA&AIB_tif\"\n",
    "lblDir=\"AIA&AIB_neurons/gt/\"\n",
    "for fname in os.listdir(imgDir):\n",
    "    print(os.path.join(imgDir,fname))\n",
    "    bname,ext=os.path.splitext(fname)\n",
    "    if ext==\".tif\":\n",
    "        img=imread(os.path.join(imgDir,fname)).astype(np.float)\n",
    "        lbl=np.load(os.path.join(lblDir,bname+\".npy\")).astype(np.float)\n",
    "        print(img.max())\n",
    "        #img=img/(255.0*255.0)\n",
    "        img=img/img.max()\n",
    "        showCube(img)\n",
    "        showCube(lbl)\n",
    "    "
   ]
  },
  {
   "cell_type": "code",
   "execution_count": null,
   "metadata": {},
   "outputs": [],
   "source": []
  }
 ],
 "metadata": {
  "kernelspec": {
   "display_name": "Python 3",
   "language": "python",
   "name": "python3"
  },
  "language_info": {
   "codemirror_mode": {
    "name": "ipython",
    "version": 3
   },
   "file_extension": ".py",
   "mimetype": "text/x-python",
   "name": "python",
   "nbconvert_exporter": "python",
   "pygments_lexer": "ipython3",
   "version": "3.6.8"
  }
 },
 "nbformat": 4,
 "nbformat_minor": 2
}
